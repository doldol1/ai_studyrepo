{
 "cells": [
  {
   "cell_type": "code",
   "execution_count": 16,
   "metadata": {},
   "outputs": [],
   "source": [
    "import pandas as pd\n",
    "from matplotlib import pyplot as plt"
   ]
  },
  {
   "cell_type": "code",
   "execution_count": 3,
   "metadata": {},
   "outputs": [],
   "source": [
    "# 데이터 로딩\n",
    "data1=pd.read_csv('./data/titanic/train.csv')\n",
    "data2=pd.read_csv('./data/titanic/test.csv')\n",
    "data3=pd.read_csv('./data/titanic/gender_submission.csv')\n"
   ]
  },
  {
   "cell_type": "code",
   "execution_count": 13,
   "metadata": {},
   "outputs": [
    {
     "name": "stdout",
     "output_type": "stream",
     "text": [
      "     PassengerId  Survived  Pclass  \\\n",
      "0              1         0       3   \n",
      "1              2         1       1   \n",
      "2              3         1       3   \n",
      "3              4         1       1   \n",
      "4              5         0       3   \n",
      "..           ...       ...     ...   \n",
      "413         1305         0       3   \n",
      "414         1306         1       1   \n",
      "415         1307         0       3   \n",
      "416         1308         0       3   \n",
      "417         1309         0       3   \n",
      "\n",
      "                                                  Name     Sex   Age  SibSp  \\\n",
      "0                              Braund, Mr. Owen Harris    male  22.0      1   \n",
      "1    Cumings, Mrs. John Bradley (Florence Briggs Th...  female  38.0      1   \n",
      "2                               Heikkinen, Miss. Laina  female  26.0      0   \n",
      "3         Futrelle, Mrs. Jacques Heath (Lily May Peel)  female  35.0      1   \n",
      "4                             Allen, Mr. William Henry    male  35.0      0   \n",
      "..                                                 ...     ...   ...    ...   \n",
      "413                                 Spector, Mr. Woolf    male   NaN      0   \n",
      "414                       Oliva y Ocana, Dona. Fermina  female  39.0      0   \n",
      "415                       Saether, Mr. Simon Sivertsen    male  38.5      0   \n",
      "416                                Ware, Mr. Frederick    male   NaN      0   \n",
      "417                           Peter, Master. Michael J    male   NaN      1   \n",
      "\n",
      "     Parch              Ticket      Fare Cabin Embarked  \n",
      "0        0           A/5 21171    7.2500   NaN        S  \n",
      "1        0            PC 17599   71.2833   C85        C  \n",
      "2        0    STON/O2. 3101282    7.9250   NaN        S  \n",
      "3        0              113803   53.1000  C123        S  \n",
      "4        0              373450    8.0500   NaN        S  \n",
      "..     ...                 ...       ...   ...      ...  \n",
      "413      0           A.5. 3236    8.0500   NaN        S  \n",
      "414      0            PC 17758  108.9000  C105        C  \n",
      "415      0  SOTON/O.Q. 3101262    7.2500   NaN        S  \n",
      "416      0              359309    8.0500   NaN        S  \n",
      "417      1                2668   22.3583   NaN        C  \n",
      "\n",
      "[1309 rows x 12 columns]\n"
     ]
    }
   ],
   "source": [
    "# 데이터 병합: test 데이터와 label 데이터를 merge하고 그 데이터를 train에 concat한ㄷ.\n",
    "data=pd.merge(data2, data3, how='left', on='PassengerId')\n",
    "data=pd.concat([data1, data], axis=0)\n",
    "print(data)"
   ]
  },
  {
   "cell_type": "code",
   "execution_count": 14,
   "metadata": {},
   "outputs": [
    {
     "name": "stdout",
     "output_type": "stream",
     "text": [
      "     PassengerId  Survived  Pclass     Sex   Age  SibSp  Parch  \\\n",
      "0              1         0       3    male  22.0      1      0   \n",
      "1              2         1       1  female  38.0      1      0   \n",
      "2              3         1       3  female  26.0      0      0   \n",
      "3              4         1       1  female  35.0      1      0   \n",
      "4              5         0       3    male  35.0      0      0   \n",
      "..           ...       ...     ...     ...   ...    ...    ...   \n",
      "413         1305         0       3    male   NaN      0      0   \n",
      "414         1306         1       1  female  39.0      0      0   \n",
      "415         1307         0       3    male  38.5      0      0   \n",
      "416         1308         0       3    male   NaN      0      0   \n",
      "417         1309         0       3    male   NaN      1      1   \n",
      "\n",
      "                 Ticket      Fare  \n",
      "0             A/5 21171    7.2500  \n",
      "1              PC 17599   71.2833  \n",
      "2      STON/O2. 3101282    7.9250  \n",
      "3                113803   53.1000  \n",
      "4                373450    8.0500  \n",
      "..                  ...       ...  \n",
      "413           A.5. 3236    8.0500  \n",
      "414            PC 17758  108.9000  \n",
      "415  SOTON/O.Q. 3101262    7.2500  \n",
      "416              359309    8.0500  \n",
      "417                2668   22.3583  \n",
      "\n",
      "[1309 rows x 9 columns]\n"
     ]
    }
   ],
   "source": [
    "# Pclass: Ticket class, SibSp: 동승한 형재자매와 배우자, Parch: 동승한 직계가족(부모, 아이), \n",
    "# Ticket: Ticket number, Fare: 운임, Cabin: cabin number, Embarked: 출국한(탑승한) 항구()\n",
    "\n",
    "# EDA를 시작하려면 무엇이 필요한가?\n",
    "# 관계성? 관계를 나타냄에는 기준이 있어야 하고 기준을 정하는 것은 목적이다.\n",
    "# 있어보이는 차트? 차트는 정보를 담는 프레임인데 정보는 의미가 담겨 있는 데이터이고, 그 의미는 목적이 결정한다.\n",
    "# 그래서 가장 먼저 찾을 것은 목적이다.\n",
    "# 그렇다면 데이터에 대한 어떤 목적을 가져야 할까?\n",
    "# 데이터가 가지고 있는 특징에서 관심사를 찾아야 할 것이다.\n",
    "# 데이터를 봤을 때 당장 관심이 가는 것은\n",
    "# 생존자들의 특징은 무엇인가?\n",
    "# ticket class와 가족(동행자)의 상관관계\n",
    "# ticket class는 ticket number와 상관있는가?\n",
    "\n",
    "# 그렇다면 위와 같은 문제들을 해결하기 위해 가장 먼저 할 일을 무엇인가?\n",
    "# 문제 해결에 필요한 데이터들만 남기고 나머지는 제거하여 고려할 범위를 줄이는 일이다\n",
    "# 목적에 따라 다르겠지만 모든 목적에 불필요하다고 생각하는 데이터들부터 줄여야 한다.\n",
    "# 그렇다면, 어떤 기준으로 데이터를 줄여야 할 것인가?\n",
    "# 데이터를 줄이는 기준에는 주관이 개입될 수 밖에 없다.\n",
    "# 그렇다면 생존을 결정할 것 같은 요소, ticket class와 가족 간의 연결고리 등과 무관한 부분을 찾고 제거해야 될 것 같다\n",
    "# 그래서 이름, Cabin, Embarked를 일차적으로 제거할 것이다.\n",
    "# rem_col=['PassengerId', 'Pclass', 'Sex', 'Age', 'SibSp', 'Parch', 'Ticket', 'Fare', 'Cabin', 'Embarked']\n",
    "data= data.drop(['Name', 'Cabin', 'Embarked'], axis=1)\n",
    "\n",
    "\n",
    "print(data)"
   ]
  },
  {
   "cell_type": "code",
   "execution_count": 28,
   "metadata": {},
   "outputs": [
    {
     "name": "stdout",
     "output_type": "stream",
     "text": [
      "PassengerId      0\n",
      "Survived         0\n",
      "Pclass           0\n",
      "Sex              0\n",
      "Age            263\n",
      "SibSp            0\n",
      "Parch            0\n",
      "Ticket           0\n",
      "Fare             1\n",
      "dtype: int64\n"
     ]
    }
   ],
   "source": [
    "# 먼저, 결측치를 확인하였다.\n",
    "print(data.isnull().sum())"
   ]
  },
  {
   "cell_type": "code",
   "execution_count": 32,
   "metadata": {},
   "outputs": [
    {
     "ename": "TypeError",
     "evalue": "dropna() got an unexpected keyword argument 'subset'",
     "output_type": "error",
     "traceback": [
      "\u001b[1;31m---------------------------------------------------------------------------\u001b[0m",
      "\u001b[1;31mTypeError\u001b[0m                                 Traceback (most recent call last)",
      "\u001b[1;32mf:\\work\\python\\python_study(ai)\\titanic_eda.ipynb 셀 6\u001b[0m in \u001b[0;36m2\n\u001b[0;32m      <a href='vscode-notebook-cell:/f%3A/work/python/python_study%28ai%29/titanic_eda.ipynb#X12sZmlsZQ%3D%3D?line=0'>1</a>\u001b[0m \u001b[39m# Fare 결측치는 제거해도 좋을 정도의 작은 값이니 제거한다.\u001b[39;00m\n\u001b[1;32m----> <a href='vscode-notebook-cell:/f%3A/work/python/python_study%28ai%29/titanic_eda.ipynb#X12sZmlsZQ%3D%3D?line=1'>2</a>\u001b[0m data\u001b[39m=\u001b[39mdata\u001b[39m.\u001b[39;49mdropna(subset\u001b[39m=\u001b[39;49m[\u001b[39m'\u001b[39;49m\u001b[39mFare\u001b[39;49m\u001b[39m'\u001b[39;49m])\n\u001b[0;32m      <a href='vscode-notebook-cell:/f%3A/work/python/python_study%28ai%29/titanic_eda.ipynb#X12sZmlsZQ%3D%3D?line=2'>3</a>\u001b[0m \u001b[39mprint\u001b[39m(data\u001b[39m.\u001b[39misnull()\u001b[39m.\u001b[39msum())\n",
      "File \u001b[1;32mc:\\ProgramData\\Anaconda3\\lib\\site-packages\\pandas\\util\\_decorators.py:311\u001b[0m, in \u001b[0;36mdeprecate_nonkeyword_arguments.<locals>.decorate.<locals>.wrapper\u001b[1;34m(*args, **kwargs)\u001b[0m\n\u001b[0;32m    305\u001b[0m \u001b[39mif\u001b[39;00m \u001b[39mlen\u001b[39m(args) \u001b[39m>\u001b[39m num_allow_args:\n\u001b[0;32m    306\u001b[0m     warnings\u001b[39m.\u001b[39mwarn(\n\u001b[0;32m    307\u001b[0m         msg\u001b[39m.\u001b[39mformat(arguments\u001b[39m=\u001b[39marguments),\n\u001b[0;32m    308\u001b[0m         \u001b[39mFutureWarning\u001b[39;00m,\n\u001b[0;32m    309\u001b[0m         stacklevel\u001b[39m=\u001b[39mstacklevel,\n\u001b[0;32m    310\u001b[0m     )\n\u001b[1;32m--> 311\u001b[0m \u001b[39mreturn\u001b[39;00m func(\u001b[39m*\u001b[39;49margs, \u001b[39m*\u001b[39;49m\u001b[39m*\u001b[39;49mkwargs)\n",
      "\u001b[1;31mTypeError\u001b[0m: dropna() got an unexpected keyword argument 'subset'"
     ]
    }
   ],
   "source": [
    "# Fare 결측치는 제거해도 좋을 정도의 작은 값이니 제거한다.\n",
    "data=data.dropna(subset=['Fare'])\n",
    "print(data.isnull().sum())"
   ]
  },
  {
   "cell_type": "code",
   "execution_count": null,
   "metadata": {},
   "outputs": [],
   "source": [
    "# 가장 먼저 ticket class와 가족(동행자)의 상관관계를 조사한다.\n",
    "# 비교 대상이 정해져 있기 때문에 ticket class와\n",
    "# 형재자매/배우자\n",
    "# 직계가족\n",
    "# 형제자매/배우자+직계가족을 비교해 보기로 하였다.\n",
    "# 형제자매/ 배우자\n",
    "\n",
    "data_sibsp=data.groupby('Pclass').sum()\n",
    "x=data_sibsp['Pclass'].to_list()\n",
    "y=data_sibsp['Pclass'].to_list()\n",
    "\n",
    "\n",
    "plt.xlabel('0')\n",
    "plt.bar(x, y)\n",
    "plt.show()"
   ]
  }
 ],
 "metadata": {
  "kernelspec": {
   "display_name": "base",
   "language": "python",
   "name": "python3"
  },
  "language_info": {
   "codemirror_mode": {
    "name": "ipython",
    "version": 3
   },
   "file_extension": ".py",
   "mimetype": "text/x-python",
   "name": "python",
   "nbconvert_exporter": "python",
   "pygments_lexer": "ipython3",
   "version": "3.8.8"
  },
  "orig_nbformat": 4
 },
 "nbformat": 4,
 "nbformat_minor": 2
}
